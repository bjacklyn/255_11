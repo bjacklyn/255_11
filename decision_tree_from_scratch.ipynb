{
  "nbformat": 4,
  "nbformat_minor": 0,
  "metadata": {
    "colab": {
      "provenance": []
    },
    "kernelspec": {
      "name": "python3",
      "display_name": "Python 3"
    },
    "language_info": {
      "name": "python"
    }
  },
  "cells": [
    {
      "cell_type": "code",
      "source": [
        "import numpy as np\n",
        "from collections import Counter\n",
        "import pandas as pd\n",
        "from sklearn.model_selection import train_test_split\n",
        "from sklearn.base import BaseEstimator\n",
        "from sklearn import datasets\n",
        "import matplotlib.pyplot as plt\n",
        "from sklearn.preprocessing import StandardScaler, MinMaxScaler"
      ],
      "metadata": {
        "id": "slLymREqqESr"
      },
      "execution_count": 1,
      "outputs": []
    },
    {
      "cell_type": "code",
      "source": [
        "from sklearn.preprocessing import LabelEncoder, StandardScaler\n",
        "label_encoder = LabelEncoder()\n",
        "standard_scaler = StandardScaler()"
      ],
      "metadata": {
        "id": "fkLKsko_zKK7"
      },
      "execution_count": 2,
      "outputs": []
    },
    {
      "cell_type": "code",
      "execution_count": 3,
      "metadata": {
        "id": "aoQ93ivVpwep"
      },
      "outputs": [],
      "source": [
        "def giniImpurity(y):\n",
        "    hist = np.bincount(y)\n",
        "    ps = hist / len(y)\n",
        "    return np.sum(ps * (1 - ps))"
      ]
    },
    {
      "cell_type": "code",
      "source": [
        "class Node:\n",
        "    def __init__(self, feature=None, threshold=None, left=None, right=None, *, value=None):\n",
        "        self.feature = feature\n",
        "        self.threshold = threshold\n",
        "        self.left = left\n",
        "        self.right = right\n",
        "        self.value = value\n",
        "\n",
        "    def is_leaf_node(self):\n",
        "        return self.value is not None"
      ],
      "metadata": {
        "id": "7W_jq2ieqjaD"
      },
      "execution_count": 4,
      "outputs": []
    },
    {
      "cell_type": "code",
      "source": [
        "class DecisionTree(BaseEstimator):\n",
        "  def __init__(self, min_num_samples_split=5, max_tree_depth=100):\n",
        "    self.min_num_samples_split = min_num_samples_split\n",
        "    self.max_tree_depth = max_tree_depth\n",
        "    self.root = None\n",
        "\n",
        "  def fit(self, X, y):\n",
        "    self.root = self.grow_tree(X, y)\n",
        "\n",
        "  def grow_tree(self, X, y, depth=0):\n",
        "    num_samples, num_features = X.shape\n",
        "    num_labels = len(np.unique(y))\n",
        "\n",
        "    # Stopping criteria\n",
        "    if (depth >= self.max_tree_depth or num_labels == 1 or num_samples < self.min_num_samples_split):\n",
        "      leaf_value = self.most_common_label(y)\n",
        "      return Node(value=leaf_value)\n",
        "\n",
        "    best_feature, best_threshold = self.get_best_split(X, y, num_features)\n",
        "\n",
        "    # Grow the tree from the split\n",
        "    left_idxs, right_idxs = self.split(X[:, best_feature], best_threshold)\n",
        "    left = self.grow_tree(X[left_idxs, :], y[left_idxs], depth+1)\n",
        "    right = self.grow_tree(X[right_idxs, :], y[right_idxs], depth+1)\n",
        "\n",
        "    return Node(best_feature, best_threshold, left, right)\n",
        "\n",
        "  def get_best_split(self, X, y, num_features):\n",
        "    best_gini_gain = -1\n",
        "    split_index, split_threshold = None, None\n",
        "    for feature_index in range(num_features):\n",
        "      X_column = X[:, feature_index]\n",
        "      thresholds = np.unique(X_column)\n",
        "      for threshold in thresholds:\n",
        "        gain = self.gini_gain(y, X_column, threshold)\n",
        "\n",
        "        if gain > best_gini_gain:\n",
        "          best_gini_gain = gain\n",
        "          split_index = feature_index\n",
        "          split_threshold = threshold\n",
        "\n",
        "    return split_index, split_threshold\n",
        "\n",
        "  def gini_gain(self, y, X_column, split_threshold):\n",
        "    # parent\n",
        "    parent_gini_impurity = giniImpurity(y)\n",
        "\n",
        "    # generate split\n",
        "    left_idxs, right_idxs = self.split(X_column, split_threshold)\n",
        "\n",
        "    if len(left_idxs) == 0 or len(right_idxs) == 0:\n",
        "        return 0\n",
        "\n",
        "    # compute the weighted average for the children\n",
        "    n = len(y)\n",
        "    num_left, num_right = len(left_idxs), len(right_idxs)\n",
        "    gini_left, gini_right = giniImpurity(y[left_idxs]), giniImpurity(y[right_idxs])\n",
        "    child_gini_impurity = (num_left / n) * gini_left + (num_right / n) * gini_right\n",
        "\n",
        "    # gini gain is difference in loss before vs. after split\n",
        "    gini_gain = parent_gini_impurity - child_gini_impurity\n",
        "    return gini_gain\n",
        "\n",
        "  def split(self, X_column, split_threshold):\n",
        "    left_idxs = np.argwhere(X_column <= split_threshold).flatten()\n",
        "    right_idxs = np.argwhere(X_column > split_threshold).flatten()\n",
        "    return left_idxs, right_idxs\n",
        "\n",
        "  def most_common_label(self, y):\n",
        "    counter = Counter(y)\n",
        "    most_common = counter.most_common(1)[0][0]\n",
        "    return most_common\n",
        "\n",
        "  def predict(self, X):\n",
        "    return np.array([self.traverse_tree(x, self.root) for x in X])\n",
        "\n",
        "  def traverse_tree(self, x, node):\n",
        "    if node.is_leaf_node():\n",
        "        return node.value\n",
        "\n",
        "    if x[node.feature] <= node.threshold:\n",
        "        return self.traverse_tree(x, node.left)\n",
        "    return self.traverse_tree(x, node.right)"
      ],
      "metadata": {
        "id": "xrDplUFRqlHH"
      },
      "execution_count": 5,
      "outputs": []
    },
    {
      "cell_type": "code",
      "source": [
        "# Mount Google drive and copy kaggle.json to local disk\n",
        "\n",
        "from google.colab import drive\n",
        "drive.mount('mount')\n",
        "\n",
        "!cp mount/MyDrive/kaggle.json ."
      ],
      "metadata": {
        "colab": {
          "base_uri": "https://localhost:8080/"
        },
        "id": "s9nRBoxkyqiX",
        "outputId": "3d693d45-d46d-4983-bae0-5dcbdeff4199"
      },
      "execution_count": 6,
      "outputs": [
        {
          "output_type": "stream",
          "name": "stdout",
          "text": [
            "Mounted at mount\n"
          ]
        }
      ]
    },
    {
      "cell_type": "code",
      "source": [
        "!KAGGLE_CONFIG_DIR=$(pwd) kaggle datasets download rabieelkharoua/students-performance-dataset"
      ],
      "metadata": {
        "colab": {
          "base_uri": "https://localhost:8080/"
        },
        "id": "-yUQhj0lyjbX",
        "outputId": "4408cbc3-1e2f-429f-92dc-6a5dcfebf817"
      },
      "execution_count": 7,
      "outputs": [
        {
          "output_type": "stream",
          "name": "stdout",
          "text": [
            "Dataset URL: https://www.kaggle.com/datasets/rabieelkharoua/students-performance-dataset\n",
            "License(s): Attribution 4.0 International (CC BY 4.0)\n",
            "Downloading students-performance-dataset.zip to /content\n",
            "  0% 0.00/66.2k [00:00<?, ?B/s]\n",
            "100% 66.2k/66.2k [00:00<00:00, 84.2MB/s]\n"
          ]
        }
      ]
    },
    {
      "cell_type": "code",
      "source": [
        "!unzip -o students-performance-dataset.zip -d students-performance-dataset"
      ],
      "metadata": {
        "colab": {
          "base_uri": "https://localhost:8080/"
        },
        "id": "JkqowBRnv_sE",
        "outputId": "19f53b07-3cf6-4d4d-ebc2-cdfd0071c470"
      },
      "execution_count": 8,
      "outputs": [
        {
          "output_type": "stream",
          "name": "stdout",
          "text": [
            "Archive:  students-performance-dataset.zip\n",
            "  inflating: students-performance-dataset/Student_performance_data _.csv  \n"
          ]
        }
      ]
    },
    {
      "cell_type": "code",
      "source": [
        "student_performance_df_orig = pd.read_csv('students-performance-dataset/Student_performance_data _.csv')"
      ],
      "metadata": {
        "id": "sugtp6ATy96R"
      },
      "execution_count": 9,
      "outputs": []
    },
    {
      "cell_type": "code",
      "source": [
        "student_performance_df = student_performance_df_orig.drop(['StudentID', 'GradeClass', 'GPA'], axis=1)\n",
        "student_performance_df = pd.DataFrame(standard_scaler.fit_transform(student_performance_df), columns=student_performance_df.columns)\n",
        "student_performance_df"
      ],
      "metadata": {
        "colab": {
          "base_uri": "https://localhost:8080/",
          "height": 444
        },
        "id": "b46nQ8omzGZN",
        "outputId": "af499359-940d-4420-901c-4e39bdbb3841"
      },
      "execution_count": 10,
      "outputs": [
        {
          "output_type": "execute_result",
          "data": {
            "text/plain": [
              "           Age    Gender  Ethnicity  ParentalEducation  StudyTimeWeekly  \\\n",
              "0     0.472919  0.978492  -0.853391           0.253711         1.780336   \n",
              "1     1.362944 -1.021981  -0.853391          -0.746087         0.997376   \n",
              "2    -1.307132 -1.021981   1.091641           1.253509        -0.984045   \n",
              "3     0.472919  0.978492  -0.853391           1.253509         0.045445   \n",
              "4     0.472919  0.978492  -0.853391           0.253711        -0.902311   \n",
              "...        ...       ...        ...                ...              ...   \n",
              "2387  1.362944  0.978492  -0.853391           1.253509         0.160762   \n",
              "2388  0.472919 -1.021981  -0.853391          -0.746087        -0.387285   \n",
              "2389 -0.417106  0.978492  -0.853391           0.253711        -0.524895   \n",
              "2390 -0.417106  0.978492   0.119125          -1.745885         0.467950   \n",
              "2391 -0.417106  0.978492  -0.853391           0.253711         1.424008   \n",
              "\n",
              "      Absences  Tutoring  ParentalSupport  Extracurricular    Sports  \\\n",
              "0    -0.890822  1.522371        -0.108744        -0.788476 -0.660132   \n",
              "1    -1.717694 -0.656870        -0.999551        -0.788476 -0.660132   \n",
              "2     1.353542 -0.656870        -0.108744        -0.788476 -0.660132   \n",
              "3    -0.063951 -0.656870         0.782063         1.268269 -0.660132   \n",
              "4     0.290422  1.522371         0.782063        -0.788476 -0.660132   \n",
              "...        ...       ...              ...              ...       ...   \n",
              "2387 -1.481445 -0.656870         1.672869         1.268269 -0.660132   \n",
              "2388 -1.245196  1.522371         1.672869        -0.788476  1.514848   \n",
              "2389  0.644796 -0.656870        -0.108744        -0.788476 -0.660132   \n",
              "2390  0.290422 -0.656870        -0.108744        -0.788476  1.514848   \n",
              "2391 -0.182076 -0.656870        -0.108744        -0.788476 -0.660132   \n",
              "\n",
              "         Music  Volunteering  \n",
              "0     2.019544     -0.431866  \n",
              "1    -0.495161     -0.431866  \n",
              "2    -0.495161     -0.431866  \n",
              "3    -0.495161     -0.431866  \n",
              "4    -0.495161     -0.431866  \n",
              "...        ...           ...  \n",
              "2387 -0.495161     -0.431866  \n",
              "2388 -0.495161     -0.431866  \n",
              "2389 -0.495161      2.315535  \n",
              "2390  2.019544     -0.431866  \n",
              "2391 -0.495161      2.315535  \n",
              "\n",
              "[2392 rows x 12 columns]"
            ],
            "text/html": [
              "\n",
              "  <div id=\"df-5d87180a-08c9-4a35-a8b1-0039be3e7fbf\" class=\"colab-df-container\">\n",
              "    <div>\n",
              "<style scoped>\n",
              "    .dataframe tbody tr th:only-of-type {\n",
              "        vertical-align: middle;\n",
              "    }\n",
              "\n",
              "    .dataframe tbody tr th {\n",
              "        vertical-align: top;\n",
              "    }\n",
              "\n",
              "    .dataframe thead th {\n",
              "        text-align: right;\n",
              "    }\n",
              "</style>\n",
              "<table border=\"1\" class=\"dataframe\">\n",
              "  <thead>\n",
              "    <tr style=\"text-align: right;\">\n",
              "      <th></th>\n",
              "      <th>Age</th>\n",
              "      <th>Gender</th>\n",
              "      <th>Ethnicity</th>\n",
              "      <th>ParentalEducation</th>\n",
              "      <th>StudyTimeWeekly</th>\n",
              "      <th>Absences</th>\n",
              "      <th>Tutoring</th>\n",
              "      <th>ParentalSupport</th>\n",
              "      <th>Extracurricular</th>\n",
              "      <th>Sports</th>\n",
              "      <th>Music</th>\n",
              "      <th>Volunteering</th>\n",
              "    </tr>\n",
              "  </thead>\n",
              "  <tbody>\n",
              "    <tr>\n",
              "      <th>0</th>\n",
              "      <td>0.472919</td>\n",
              "      <td>0.978492</td>\n",
              "      <td>-0.853391</td>\n",
              "      <td>0.253711</td>\n",
              "      <td>1.780336</td>\n",
              "      <td>-0.890822</td>\n",
              "      <td>1.522371</td>\n",
              "      <td>-0.108744</td>\n",
              "      <td>-0.788476</td>\n",
              "      <td>-0.660132</td>\n",
              "      <td>2.019544</td>\n",
              "      <td>-0.431866</td>\n",
              "    </tr>\n",
              "    <tr>\n",
              "      <th>1</th>\n",
              "      <td>1.362944</td>\n",
              "      <td>-1.021981</td>\n",
              "      <td>-0.853391</td>\n",
              "      <td>-0.746087</td>\n",
              "      <td>0.997376</td>\n",
              "      <td>-1.717694</td>\n",
              "      <td>-0.656870</td>\n",
              "      <td>-0.999551</td>\n",
              "      <td>-0.788476</td>\n",
              "      <td>-0.660132</td>\n",
              "      <td>-0.495161</td>\n",
              "      <td>-0.431866</td>\n",
              "    </tr>\n",
              "    <tr>\n",
              "      <th>2</th>\n",
              "      <td>-1.307132</td>\n",
              "      <td>-1.021981</td>\n",
              "      <td>1.091641</td>\n",
              "      <td>1.253509</td>\n",
              "      <td>-0.984045</td>\n",
              "      <td>1.353542</td>\n",
              "      <td>-0.656870</td>\n",
              "      <td>-0.108744</td>\n",
              "      <td>-0.788476</td>\n",
              "      <td>-0.660132</td>\n",
              "      <td>-0.495161</td>\n",
              "      <td>-0.431866</td>\n",
              "    </tr>\n",
              "    <tr>\n",
              "      <th>3</th>\n",
              "      <td>0.472919</td>\n",
              "      <td>0.978492</td>\n",
              "      <td>-0.853391</td>\n",
              "      <td>1.253509</td>\n",
              "      <td>0.045445</td>\n",
              "      <td>-0.063951</td>\n",
              "      <td>-0.656870</td>\n",
              "      <td>0.782063</td>\n",
              "      <td>1.268269</td>\n",
              "      <td>-0.660132</td>\n",
              "      <td>-0.495161</td>\n",
              "      <td>-0.431866</td>\n",
              "    </tr>\n",
              "    <tr>\n",
              "      <th>4</th>\n",
              "      <td>0.472919</td>\n",
              "      <td>0.978492</td>\n",
              "      <td>-0.853391</td>\n",
              "      <td>0.253711</td>\n",
              "      <td>-0.902311</td>\n",
              "      <td>0.290422</td>\n",
              "      <td>1.522371</td>\n",
              "      <td>0.782063</td>\n",
              "      <td>-0.788476</td>\n",
              "      <td>-0.660132</td>\n",
              "      <td>-0.495161</td>\n",
              "      <td>-0.431866</td>\n",
              "    </tr>\n",
              "    <tr>\n",
              "      <th>...</th>\n",
              "      <td>...</td>\n",
              "      <td>...</td>\n",
              "      <td>...</td>\n",
              "      <td>...</td>\n",
              "      <td>...</td>\n",
              "      <td>...</td>\n",
              "      <td>...</td>\n",
              "      <td>...</td>\n",
              "      <td>...</td>\n",
              "      <td>...</td>\n",
              "      <td>...</td>\n",
              "      <td>...</td>\n",
              "    </tr>\n",
              "    <tr>\n",
              "      <th>2387</th>\n",
              "      <td>1.362944</td>\n",
              "      <td>0.978492</td>\n",
              "      <td>-0.853391</td>\n",
              "      <td>1.253509</td>\n",
              "      <td>0.160762</td>\n",
              "      <td>-1.481445</td>\n",
              "      <td>-0.656870</td>\n",
              "      <td>1.672869</td>\n",
              "      <td>1.268269</td>\n",
              "      <td>-0.660132</td>\n",
              "      <td>-0.495161</td>\n",
              "      <td>-0.431866</td>\n",
              "    </tr>\n",
              "    <tr>\n",
              "      <th>2388</th>\n",
              "      <td>0.472919</td>\n",
              "      <td>-1.021981</td>\n",
              "      <td>-0.853391</td>\n",
              "      <td>-0.746087</td>\n",
              "      <td>-0.387285</td>\n",
              "      <td>-1.245196</td>\n",
              "      <td>1.522371</td>\n",
              "      <td>1.672869</td>\n",
              "      <td>-0.788476</td>\n",
              "      <td>1.514848</td>\n",
              "      <td>-0.495161</td>\n",
              "      <td>-0.431866</td>\n",
              "    </tr>\n",
              "    <tr>\n",
              "      <th>2389</th>\n",
              "      <td>-0.417106</td>\n",
              "      <td>0.978492</td>\n",
              "      <td>-0.853391</td>\n",
              "      <td>0.253711</td>\n",
              "      <td>-0.524895</td>\n",
              "      <td>0.644796</td>\n",
              "      <td>-0.656870</td>\n",
              "      <td>-0.108744</td>\n",
              "      <td>-0.788476</td>\n",
              "      <td>-0.660132</td>\n",
              "      <td>-0.495161</td>\n",
              "      <td>2.315535</td>\n",
              "    </tr>\n",
              "    <tr>\n",
              "      <th>2390</th>\n",
              "      <td>-0.417106</td>\n",
              "      <td>0.978492</td>\n",
              "      <td>0.119125</td>\n",
              "      <td>-1.745885</td>\n",
              "      <td>0.467950</td>\n",
              "      <td>0.290422</td>\n",
              "      <td>-0.656870</td>\n",
              "      <td>-0.108744</td>\n",
              "      <td>-0.788476</td>\n",
              "      <td>1.514848</td>\n",
              "      <td>2.019544</td>\n",
              "      <td>-0.431866</td>\n",
              "    </tr>\n",
              "    <tr>\n",
              "      <th>2391</th>\n",
              "      <td>-0.417106</td>\n",
              "      <td>0.978492</td>\n",
              "      <td>-0.853391</td>\n",
              "      <td>0.253711</td>\n",
              "      <td>1.424008</td>\n",
              "      <td>-0.182076</td>\n",
              "      <td>-0.656870</td>\n",
              "      <td>-0.108744</td>\n",
              "      <td>-0.788476</td>\n",
              "      <td>-0.660132</td>\n",
              "      <td>-0.495161</td>\n",
              "      <td>2.315535</td>\n",
              "    </tr>\n",
              "  </tbody>\n",
              "</table>\n",
              "<p>2392 rows × 12 columns</p>\n",
              "</div>\n",
              "    <div class=\"colab-df-buttons\">\n",
              "\n",
              "  <div class=\"colab-df-container\">\n",
              "    <button class=\"colab-df-convert\" onclick=\"convertToInteractive('df-5d87180a-08c9-4a35-a8b1-0039be3e7fbf')\"\n",
              "            title=\"Convert this dataframe to an interactive table.\"\n",
              "            style=\"display:none;\">\n",
              "\n",
              "  <svg xmlns=\"http://www.w3.org/2000/svg\" height=\"24px\" viewBox=\"0 -960 960 960\">\n",
              "    <path d=\"M120-120v-720h720v720H120Zm60-500h600v-160H180v160Zm220 220h160v-160H400v160Zm0 220h160v-160H400v160ZM180-400h160v-160H180v160Zm440 0h160v-160H620v160ZM180-180h160v-160H180v160Zm440 0h160v-160H620v160Z\"/>\n",
              "  </svg>\n",
              "    </button>\n",
              "\n",
              "  <style>\n",
              "    .colab-df-container {\n",
              "      display:flex;\n",
              "      gap: 12px;\n",
              "    }\n",
              "\n",
              "    .colab-df-convert {\n",
              "      background-color: #E8F0FE;\n",
              "      border: none;\n",
              "      border-radius: 50%;\n",
              "      cursor: pointer;\n",
              "      display: none;\n",
              "      fill: #1967D2;\n",
              "      height: 32px;\n",
              "      padding: 0 0 0 0;\n",
              "      width: 32px;\n",
              "    }\n",
              "\n",
              "    .colab-df-convert:hover {\n",
              "      background-color: #E2EBFA;\n",
              "      box-shadow: 0px 1px 2px rgba(60, 64, 67, 0.3), 0px 1px 3px 1px rgba(60, 64, 67, 0.15);\n",
              "      fill: #174EA6;\n",
              "    }\n",
              "\n",
              "    .colab-df-buttons div {\n",
              "      margin-bottom: 4px;\n",
              "    }\n",
              "\n",
              "    [theme=dark] .colab-df-convert {\n",
              "      background-color: #3B4455;\n",
              "      fill: #D2E3FC;\n",
              "    }\n",
              "\n",
              "    [theme=dark] .colab-df-convert:hover {\n",
              "      background-color: #434B5C;\n",
              "      box-shadow: 0px 1px 3px 1px rgba(0, 0, 0, 0.15);\n",
              "      filter: drop-shadow(0px 1px 2px rgba(0, 0, 0, 0.3));\n",
              "      fill: #FFFFFF;\n",
              "    }\n",
              "  </style>\n",
              "\n",
              "    <script>\n",
              "      const buttonEl =\n",
              "        document.querySelector('#df-5d87180a-08c9-4a35-a8b1-0039be3e7fbf button.colab-df-convert');\n",
              "      buttonEl.style.display =\n",
              "        google.colab.kernel.accessAllowed ? 'block' : 'none';\n",
              "\n",
              "      async function convertToInteractive(key) {\n",
              "        const element = document.querySelector('#df-5d87180a-08c9-4a35-a8b1-0039be3e7fbf');\n",
              "        const dataTable =\n",
              "          await google.colab.kernel.invokeFunction('convertToInteractive',\n",
              "                                                    [key], {});\n",
              "        if (!dataTable) return;\n",
              "\n",
              "        const docLinkHtml = 'Like what you see? Visit the ' +\n",
              "          '<a target=\"_blank\" href=https://colab.research.google.com/notebooks/data_table.ipynb>data table notebook</a>'\n",
              "          + ' to learn more about interactive tables.';\n",
              "        element.innerHTML = '';\n",
              "        dataTable['output_type'] = 'display_data';\n",
              "        await google.colab.output.renderOutput(dataTable, element);\n",
              "        const docLink = document.createElement('div');\n",
              "        docLink.innerHTML = docLinkHtml;\n",
              "        element.appendChild(docLink);\n",
              "      }\n",
              "    </script>\n",
              "  </div>\n",
              "\n",
              "\n",
              "<div id=\"df-23ae8bd2-1798-4394-98d3-7dd42e10b0fe\">\n",
              "  <button class=\"colab-df-quickchart\" onclick=\"quickchart('df-23ae8bd2-1798-4394-98d3-7dd42e10b0fe')\"\n",
              "            title=\"Suggest charts\"\n",
              "            style=\"display:none;\">\n",
              "\n",
              "<svg xmlns=\"http://www.w3.org/2000/svg\" height=\"24px\"viewBox=\"0 0 24 24\"\n",
              "     width=\"24px\">\n",
              "    <g>\n",
              "        <path d=\"M19 3H5c-1.1 0-2 .9-2 2v14c0 1.1.9 2 2 2h14c1.1 0 2-.9 2-2V5c0-1.1-.9-2-2-2zM9 17H7v-7h2v7zm4 0h-2V7h2v10zm4 0h-2v-4h2v4z\"/>\n",
              "    </g>\n",
              "</svg>\n",
              "  </button>\n",
              "\n",
              "<style>\n",
              "  .colab-df-quickchart {\n",
              "      --bg-color: #E8F0FE;\n",
              "      --fill-color: #1967D2;\n",
              "      --hover-bg-color: #E2EBFA;\n",
              "      --hover-fill-color: #174EA6;\n",
              "      --disabled-fill-color: #AAA;\n",
              "      --disabled-bg-color: #DDD;\n",
              "  }\n",
              "\n",
              "  [theme=dark] .colab-df-quickchart {\n",
              "      --bg-color: #3B4455;\n",
              "      --fill-color: #D2E3FC;\n",
              "      --hover-bg-color: #434B5C;\n",
              "      --hover-fill-color: #FFFFFF;\n",
              "      --disabled-bg-color: #3B4455;\n",
              "      --disabled-fill-color: #666;\n",
              "  }\n",
              "\n",
              "  .colab-df-quickchart {\n",
              "    background-color: var(--bg-color);\n",
              "    border: none;\n",
              "    border-radius: 50%;\n",
              "    cursor: pointer;\n",
              "    display: none;\n",
              "    fill: var(--fill-color);\n",
              "    height: 32px;\n",
              "    padding: 0;\n",
              "    width: 32px;\n",
              "  }\n",
              "\n",
              "  .colab-df-quickchart:hover {\n",
              "    background-color: var(--hover-bg-color);\n",
              "    box-shadow: 0 1px 2px rgba(60, 64, 67, 0.3), 0 1px 3px 1px rgba(60, 64, 67, 0.15);\n",
              "    fill: var(--button-hover-fill-color);\n",
              "  }\n",
              "\n",
              "  .colab-df-quickchart-complete:disabled,\n",
              "  .colab-df-quickchart-complete:disabled:hover {\n",
              "    background-color: var(--disabled-bg-color);\n",
              "    fill: var(--disabled-fill-color);\n",
              "    box-shadow: none;\n",
              "  }\n",
              "\n",
              "  .colab-df-spinner {\n",
              "    border: 2px solid var(--fill-color);\n",
              "    border-color: transparent;\n",
              "    border-bottom-color: var(--fill-color);\n",
              "    animation:\n",
              "      spin 1s steps(1) infinite;\n",
              "  }\n",
              "\n",
              "  @keyframes spin {\n",
              "    0% {\n",
              "      border-color: transparent;\n",
              "      border-bottom-color: var(--fill-color);\n",
              "      border-left-color: var(--fill-color);\n",
              "    }\n",
              "    20% {\n",
              "      border-color: transparent;\n",
              "      border-left-color: var(--fill-color);\n",
              "      border-top-color: var(--fill-color);\n",
              "    }\n",
              "    30% {\n",
              "      border-color: transparent;\n",
              "      border-left-color: var(--fill-color);\n",
              "      border-top-color: var(--fill-color);\n",
              "      border-right-color: var(--fill-color);\n",
              "    }\n",
              "    40% {\n",
              "      border-color: transparent;\n",
              "      border-right-color: var(--fill-color);\n",
              "      border-top-color: var(--fill-color);\n",
              "    }\n",
              "    60% {\n",
              "      border-color: transparent;\n",
              "      border-right-color: var(--fill-color);\n",
              "    }\n",
              "    80% {\n",
              "      border-color: transparent;\n",
              "      border-right-color: var(--fill-color);\n",
              "      border-bottom-color: var(--fill-color);\n",
              "    }\n",
              "    90% {\n",
              "      border-color: transparent;\n",
              "      border-bottom-color: var(--fill-color);\n",
              "    }\n",
              "  }\n",
              "</style>\n",
              "\n",
              "  <script>\n",
              "    async function quickchart(key) {\n",
              "      const quickchartButtonEl =\n",
              "        document.querySelector('#' + key + ' button');\n",
              "      quickchartButtonEl.disabled = true;  // To prevent multiple clicks.\n",
              "      quickchartButtonEl.classList.add('colab-df-spinner');\n",
              "      try {\n",
              "        const charts = await google.colab.kernel.invokeFunction(\n",
              "            'suggestCharts', [key], {});\n",
              "      } catch (error) {\n",
              "        console.error('Error during call to suggestCharts:', error);\n",
              "      }\n",
              "      quickchartButtonEl.classList.remove('colab-df-spinner');\n",
              "      quickchartButtonEl.classList.add('colab-df-quickchart-complete');\n",
              "    }\n",
              "    (() => {\n",
              "      let quickchartButtonEl =\n",
              "        document.querySelector('#df-23ae8bd2-1798-4394-98d3-7dd42e10b0fe button');\n",
              "      quickchartButtonEl.style.display =\n",
              "        google.colab.kernel.accessAllowed ? 'block' : 'none';\n",
              "    })();\n",
              "  </script>\n",
              "</div>\n",
              "\n",
              "  <div id=\"id_b8f7d297-013b-4fe4-a97a-ab98cfbe0318\">\n",
              "    <style>\n",
              "      .colab-df-generate {\n",
              "        background-color: #E8F0FE;\n",
              "        border: none;\n",
              "        border-radius: 50%;\n",
              "        cursor: pointer;\n",
              "        display: none;\n",
              "        fill: #1967D2;\n",
              "        height: 32px;\n",
              "        padding: 0 0 0 0;\n",
              "        width: 32px;\n",
              "      }\n",
              "\n",
              "      .colab-df-generate:hover {\n",
              "        background-color: #E2EBFA;\n",
              "        box-shadow: 0px 1px 2px rgba(60, 64, 67, 0.3), 0px 1px 3px 1px rgba(60, 64, 67, 0.15);\n",
              "        fill: #174EA6;\n",
              "      }\n",
              "\n",
              "      [theme=dark] .colab-df-generate {\n",
              "        background-color: #3B4455;\n",
              "        fill: #D2E3FC;\n",
              "      }\n",
              "\n",
              "      [theme=dark] .colab-df-generate:hover {\n",
              "        background-color: #434B5C;\n",
              "        box-shadow: 0px 1px 3px 1px rgba(0, 0, 0, 0.15);\n",
              "        filter: drop-shadow(0px 1px 2px rgba(0, 0, 0, 0.3));\n",
              "        fill: #FFFFFF;\n",
              "      }\n",
              "    </style>\n",
              "    <button class=\"colab-df-generate\" onclick=\"generateWithVariable('student_performance_df')\"\n",
              "            title=\"Generate code using this dataframe.\"\n",
              "            style=\"display:none;\">\n",
              "\n",
              "  <svg xmlns=\"http://www.w3.org/2000/svg\" height=\"24px\"viewBox=\"0 0 24 24\"\n",
              "       width=\"24px\">\n",
              "    <path d=\"M7,19H8.4L18.45,9,17,7.55,7,17.6ZM5,21V16.75L18.45,3.32a2,2,0,0,1,2.83,0l1.4,1.43a1.91,1.91,0,0,1,.58,1.4,1.91,1.91,0,0,1-.58,1.4L9.25,21ZM18.45,9,17,7.55Zm-12,3A5.31,5.31,0,0,0,4.9,8.1,5.31,5.31,0,0,0,1,6.5,5.31,5.31,0,0,0,4.9,4.9,5.31,5.31,0,0,0,6.5,1,5.31,5.31,0,0,0,8.1,4.9,5.31,5.31,0,0,0,12,6.5,5.46,5.46,0,0,0,6.5,12Z\"/>\n",
              "  </svg>\n",
              "    </button>\n",
              "    <script>\n",
              "      (() => {\n",
              "      const buttonEl =\n",
              "        document.querySelector('#id_b8f7d297-013b-4fe4-a97a-ab98cfbe0318 button.colab-df-generate');\n",
              "      buttonEl.style.display =\n",
              "        google.colab.kernel.accessAllowed ? 'block' : 'none';\n",
              "\n",
              "      buttonEl.onclick = () => {\n",
              "        google.colab.notebook.generateWithVariable('student_performance_df');\n",
              "      }\n",
              "      })();\n",
              "    </script>\n",
              "  </div>\n",
              "\n",
              "    </div>\n",
              "  </div>\n"
            ],
            "application/vnd.google.colaboratory.intrinsic+json": {
              "type": "dataframe",
              "variable_name": "student_performance_df",
              "summary": "{\n  \"name\": \"student_performance_df\",\n  \"rows\": 2392,\n  \"fields\": [\n    {\n      \"column\": \"Age\",\n      \"properties\": {\n        \"dtype\": \"number\",\n        \"std\": 1.0002090956635559,\n        \"min\": -1.30713177620067,\n        \"max\": 1.362944405415047,\n        \"num_unique_values\": 4,\n        \"samples\": [\n          1.362944405415047,\n          -0.41710638232876435,\n          0.4729190115431414\n        ],\n        \"semantic_type\": \"\",\n        \"description\": \"\"\n      }\n    },\n    {\n      \"column\": \"Gender\",\n      \"properties\": {\n        \"dtype\": \"number\",\n        \"std\": 1.000209095663553,\n        \"min\": -1.0219806477837263,\n        \"max\": 0.9784921095801632,\n        \"num_unique_values\": 2,\n        \"samples\": [\n          -1.0219806477837263,\n          0.9784921095801632\n        ],\n        \"semantic_type\": \"\",\n        \"description\": \"\"\n      }\n    },\n    {\n      \"column\": \"Ethnicity\",\n      \"properties\": {\n        \"dtype\": \"number\",\n        \"std\": 1.0002090956635588,\n        \"min\": -0.853390877068918,\n        \"max\": 2.0641569713572636,\n        \"num_unique_values\": 4,\n        \"samples\": [\n          1.0916410218818697,\n          2.0641569713572636\n        ],\n        \"semantic_type\": \"\",\n        \"description\": \"\"\n      }\n    },\n    {\n      \"column\": \"ParentalEducation\",\n      \"properties\": {\n        \"dtype\": \"number\",\n        \"std\": 1.0002090956635572,\n        \"min\": -1.7458849092941973,\n        \"max\": 2.2533075283708444,\n        \"num_unique_values\": 5,\n        \"samples\": [\n          -0.7460867998779368,\n          -1.7458849092941973\n        ],\n        \"semantic_type\": \"\",\n        \"description\": \"\"\n      }\n    },\n    {\n      \"column\": \"StudyTimeWeekly\",\n      \"properties\": {\n        \"dtype\": \"number\",\n        \"std\": 1.000209095663551,\n        \"min\": -1.728881790290615,\n        \"max\": 1.8058807413103892,\n        \"num_unique_values\": 2392,\n        \"samples\": [\n          -1.7050465718931582,\n          -1.3769689479170117\n        ],\n        \"semantic_type\": \"\",\n        \"description\": \"\"\n      }\n    },\n    {\n      \"column\": \"Absences\",\n      \"properties\": {\n        \"dtype\": \"number\",\n        \"std\": 1.0002090956635445,\n        \"min\": -1.7176935833500317,\n        \"max\": 1.7079157226277448,\n        \"num_unique_values\": 30,\n        \"samples\": [\n          0.40854667553272617,\n          1.2354178873204653\n        ],\n        \"semantic_type\": \"\",\n        \"description\": \"\"\n      }\n    },\n    {\n      \"column\": \"Tutoring\",\n      \"properties\": {\n        \"dtype\": \"number\",\n        \"std\": 1.0002090956635452,\n        \"min\": -0.6568699694706251,\n        \"max\": 1.5223713162072323,\n        \"num_unique_values\": 2,\n        \"samples\": [\n          -0.6568699694706251,\n          1.5223713162072323\n        ],\n        \"semantic_type\": \"\",\n        \"description\": \"\"\n      }\n    },\n    {\n      \"column\": \"ParentalSupport\",\n      \"properties\": {\n        \"dtype\": \"number\",\n        \"std\": 1.0002090956635556,\n        \"min\": -1.8903571392296699,\n        \"max\": 1.672869241414436,\n        \"num_unique_values\": 5,\n        \"samples\": [\n          -0.9995505440686434,\n          -1.8903571392296699\n        ],\n        \"semantic_type\": \"\",\n        \"description\": \"\"\n      }\n    },\n    {\n      \"column\": \"Extracurricular\",\n      \"properties\": {\n        \"dtype\": \"number\",\n        \"std\": 1.0002090956635494,\n        \"min\": -0.7884763251069985,\n        \"max\": 1.2682688980728711,\n        \"num_unique_values\": 2,\n        \"samples\": [\n          1.2682688980728711,\n          -0.7884763251069985\n        ],\n        \"semantic_type\": \"\",\n        \"description\": \"\"\n      }\n    },\n    {\n      \"column\": \"Sports\",\n      \"properties\": {\n        \"dtype\": \"number\",\n        \"std\": 1.0002090956635594,\n        \"min\": -0.6601320396132047,\n        \"max\": 1.5148484545393923,\n        \"num_unique_values\": 2,\n        \"samples\": [\n          1.5148484545393923,\n          -0.6601320396132047\n        ],\n        \"semantic_type\": \"\",\n        \"description\": \"\"\n      }\n    },\n    {\n      \"column\": \"Music\",\n      \"properties\": {\n        \"dtype\": \"number\",\n        \"std\": 1.0002090956635348,\n        \"min\": -0.49516138741177135,\n        \"max\": 2.019543577957564,\n        \"num_unique_values\": 2,\n        \"samples\": [\n          -0.49516138741177135,\n          2.019543577957564\n        ],\n        \"semantic_type\": \"\",\n        \"description\": \"\"\n      }\n    },\n    {\n      \"column\": \"Volunteering\",\n      \"properties\": {\n        \"dtype\": \"number\",\n        \"std\": 1.000209095663554,\n        \"min\": -0.4318656463623108,\n        \"max\": 2.3155349549638786,\n        \"num_unique_values\": 2,\n        \"samples\": [\n          2.3155349549638786,\n          -0.4318656463623108\n        ],\n        \"semantic_type\": \"\",\n        \"description\": \"\"\n      }\n    }\n  ]\n}"
            }
          },
          "metadata": {},
          "execution_count": 10
        }
      ]
    },
    {
      "cell_type": "code",
      "source": [
        "# student_performance_target = np.array(student_performance_df_orig['GradeClass'].map(lambda gradeclass: 0 if gradeclass == 1.0 else 1 if gradeclass == 2.0 else 2 if gradeclass == 3.0 else 3), dtype=np.int8)\n",
        "student_performance_target = np.array(student_performance_df_orig['GradeClass'].map(lambda gradeclass: 0 if gradeclass <= 3.0 else 1), dtype=np.int8)\n",
        "student_performance_target"
      ],
      "metadata": {
        "colab": {
          "base_uri": "https://localhost:8080/"
        },
        "id": "itsyfED7y7ns",
        "outputId": "e40b3c96-f0a7-4daa-9bcc-8afaf0c6d542"
      },
      "execution_count": 11,
      "outputs": [
        {
          "output_type": "execute_result",
          "data": {
            "text/plain": [
              "array([0, 0, 1, ..., 0, 0, 0], dtype=int8)"
            ]
          },
          "metadata": {},
          "execution_count": 11
        }
      ]
    },
    {
      "cell_type": "code",
      "source": [
        "from sklearn.model_selection import cross_val_score\n",
        "\n",
        "decision_tree = DecisionTree(max_tree_depth=11)\n",
        "\n",
        "cross_val_score(decision_tree, student_performance_df.values, student_performance_target, cv=2, scoring='accuracy')"
      ],
      "metadata": {
        "colab": {
          "base_uri": "https://localhost:8080/"
        },
        "id": "bce__4SXzUf1",
        "outputId": "6408db41-696c-42eb-b6d4-f0ee1888495e"
      },
      "execution_count": 12,
      "outputs": [
        {
          "output_type": "execute_result",
          "data": {
            "text/plain": [
              "array([0.85702341, 0.82608696])"
            ]
          },
          "metadata": {},
          "execution_count": 12
        }
      ]
    },
    {
      "cell_type": "code",
      "source": [
        "from sklearn.model_selection import cross_val_predict\n",
        "\n",
        "student_performance_predicted_target = cross_val_predict(decision_tree, student_performance_df.values, student_performance_target, cv=2)"
      ],
      "metadata": {
        "id": "Fq9vNsR909gE"
      },
      "execution_count": 13,
      "outputs": []
    },
    {
      "cell_type": "code",
      "source": [
        "from sklearn.metrics import confusion_matrix"
      ],
      "metadata": {
        "id": "jg37BGIR1EHR"
      },
      "execution_count": 14,
      "outputs": []
    },
    {
      "cell_type": "code",
      "source": [
        "confusion_matrix(student_performance_target, student_performance_predicted_target)"
      ],
      "metadata": {
        "colab": {
          "base_uri": "https://localhost:8080/"
        },
        "id": "nnjaUNW81E6i",
        "outputId": "ca8d196b-d9ab-4c15-9c41-08d45f2800a5"
      },
      "execution_count": 15,
      "outputs": [
        {
          "output_type": "execute_result",
          "data": {
            "text/plain": [
              "array([[ 969,  212],\n",
              "       [ 167, 1044]])"
            ]
          },
          "metadata": {},
          "execution_count": 15
        }
      ]
    },
    {
      "cell_type": "code",
      "source": [
        "from sklearn.metrics import precision_score, recall_score, f1_score\n",
        "\n",
        "precision_score(student_performance_target, student_performance_predicted_target, average='weighted')"
      ],
      "metadata": {
        "colab": {
          "base_uri": "https://localhost:8080/"
        },
        "id": "tcRvF7y51QxV",
        "outputId": "42d473b7-c506-486d-f309-b1b4587aa0b8"
      },
      "execution_count": 16,
      "outputs": [
        {
          "output_type": "execute_result",
          "data": {
            "text/plain": [
              "0.8419649767976026"
            ]
          },
          "metadata": {},
          "execution_count": 16
        }
      ]
    },
    {
      "cell_type": "code",
      "source": [
        "recall_score(student_performance_target, student_performance_predicted_target, average='weighted')"
      ],
      "metadata": {
        "colab": {
          "base_uri": "https://localhost:8080/"
        },
        "id": "Mgy-iVhR1bjd",
        "outputId": "2cea7527-d959-43af-ab69-08beece27451"
      },
      "execution_count": 17,
      "outputs": [
        {
          "output_type": "execute_result",
          "data": {
            "text/plain": [
              "0.8415551839464883"
            ]
          },
          "metadata": {},
          "execution_count": 17
        }
      ]
    },
    {
      "cell_type": "code",
      "source": [
        "f1_score(student_performance_target, student_performance_predicted_target, average='weighted')"
      ],
      "metadata": {
        "colab": {
          "base_uri": "https://localhost:8080/"
        },
        "id": "WwZSvTuT1dil",
        "outputId": "730b1ee1-6494-4502-c970-0676dbeca0e3"
      },
      "execution_count": 18,
      "outputs": [
        {
          "output_type": "execute_result",
          "data": {
            "text/plain": [
              "0.8414616311813339"
            ]
          },
          "metadata": {},
          "execution_count": 18
        }
      ]
    },
    {
      "cell_type": "code",
      "source": [
        "from sklearn.metrics import roc_curve\n",
        "\n",
        "fpr, tpr, thresholds = roc_curve(student_performance_target, student_performance_predicted_target)"
      ],
      "metadata": {
        "id": "Qz77GCaE15xU"
      },
      "execution_count": 19,
      "outputs": []
    },
    {
      "cell_type": "code",
      "source": [
        "def plot_roc_curve(fpr, tpr, label=None):\n",
        "    plt.plot(fpr, tpr, linewidth=2, label=label)\n",
        "    plt.plot([0, 1], [0, 1], 'k--')\n",
        "    plt.axis([0, 1, 0, 1])\n",
        "    plt.title(\"ROC curve\", fontsize=16)\n",
        "    plt.xlabel('False Positive Rate (Fall-Out)', fontsize=16)\n",
        "    plt.ylabel('True Positive Rate (Recall)', fontsize=16)\n",
        "    plt.grid(True)\n",
        "\n",
        "plt.figure(figsize=(8, 6))\n",
        "plot_roc_curve(fpr, tpr)\n",
        "plt.show()"
      ],
      "metadata": {
        "colab": {
          "base_uri": "https://localhost:8080/",
          "height": 592
        },
        "id": "f4w0oIsG1-HA",
        "outputId": "aec0b48c-b9cb-48ed-9c54-303d98853a7f"
      },
      "execution_count": 20,
      "outputs": [
        {
          "output_type": "display_data",
          "data": {
            "text/plain": [
              "<Figure size 800x600 with 1 Axes>"
            ],
            "image/png": "[encoded data removed]"
          },
          "metadata": {}
        }
      ]
    },
    {
      "cell_type": "code",
      "source": [
        "from sklearn.metrics import roc_auc_score\n",
        "\n",
        "roc_auc_score(student_performance_target, student_performance_predicted_target)"
      ],
      "metadata": {
        "colab": {
          "base_uri": "https://localhost:8080/"
        },
        "id": "SsiqBTwH2FGE",
        "outputId": "c10b3d60-5651-45ab-ad70-530d48603b53"
      },
      "execution_count": 21,
      "outputs": [
        {
          "output_type": "execute_result",
          "data": {
            "text/plain": [
              "0.8412942746807943"
            ]
          },
          "metadata": {},
          "execution_count": 21
        }
      ]
    }
  ]
}